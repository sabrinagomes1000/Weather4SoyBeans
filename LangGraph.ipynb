{
 "cells": [
  {
   "cell_type": "code",
   "execution_count": 1,
   "id": "42453b34",
   "metadata": {},
   "outputs": [],
   "source": [
    "#pip install -U langgraph langsmith langchain_anthropic\n",
    "import ipywidgets as widgets\n",
    "from IPython.display import display, clear_output"
   ]
  },
  {
   "cell_type": "markdown",
   "id": "41cb814c",
   "metadata": {},
   "source": [
    "#I DON'T REMEMBER IF THIS CODE IS WORKING AT ALL"
   ]
  },
  {
   "cell_type": "code",
   "execution_count": 2,
   "id": "5defd37d",
   "metadata": {},
   "outputs": [],
   "source": [
    "#set environment key if not there \n",
    "import getpass\n",
    "import os\n",
    "\n",
    "\n",
    "def _set_env(var: str):\n",
    "    if not os.environ.get(var):\n",
    "        os.environ[var] = getpass.getpass(f\"{var}: \")\n",
    "\n",
    "\n",
    "_set_env(\"ANTHROPIC_API_KEY\")"
   ]
  },
  {
   "cell_type": "code",
   "execution_count": 3,
   "id": "1667fe4b-eb55-4e43-8537-d3fa754acfbc",
   "metadata": {
    "height": 30
   },
   "outputs": [],
   "source": [
    "from typing import Annotated\n",
    "from typing_extensions import TypedDict\n",
    "\n",
    "from langgraph.graph import StateGraph, START, END\n",
    "from langgraph.graph.message import add_messages\n",
    "\n",
    "\n",
    "class State(TypedDict):\n",
    "    # Messages have the type \"list\". The `add_messages` function\n",
    "    # in the annotation defines how this state key should be updated\n",
    "    # (in this case, it appends messages to the list, rather than overwriting them)\n",
    "    messages: Annotated[list, add_messages]\n",
    "\n",
    "\n",
    "graph_builder = StateGraph(State)"
   ]
  },
  {
   "cell_type": "code",
   "execution_count": 4,
   "id": "f45bba17",
   "metadata": {},
   "outputs": [
    {
     "data": {
      "text/plain": [
       "<langgraph.graph.state.StateGraph at 0x1ea524c2ed0>"
      ]
     },
     "execution_count": 4,
     "metadata": {},
     "output_type": "execute_result"
    }
   ],
   "source": [
    "from langchain_anthropic import ChatAnthropic\n",
    "\n",
    "llm = ChatAnthropic(model=\"claude-3-5-sonnet-20240620\")\n",
    "\n",
    "\n",
    "def chatbot(state: State):\n",
    "    return {\"messages\": [llm.invoke(state[\"messages\"])]}\n",
    "\n",
    "\n",
    "# The first argument is the unique node name\n",
    "# The second argument is the function or object that will be called whenever\n",
    "# the node is used.\n",
    "graph_builder.add_node(\"chatbot\", chatbot)"
   ]
  },
  {
   "cell_type": "code",
   "execution_count": 5,
   "id": "e983329c",
   "metadata": {},
   "outputs": [
    {
     "data": {
      "text/plain": [
       "<langgraph.graph.state.StateGraph at 0x1ea524c2ed0>"
      ]
     },
     "execution_count": 5,
     "metadata": {},
     "output_type": "execute_result"
    }
   ],
   "source": [
    "#add a entry point\n",
    "graph_builder.add_edge(START, \"chatbot\")\n",
    "\n",
    "#add an exit point\n",
    "\n",
    "graph_builder.add_edge(\"chatbot\", END)"
   ]
  },
  {
   "cell_type": "code",
   "execution_count": 6,
   "id": "68a2f0eb-0aa3-4352-863e-c29c4cf11689",
   "metadata": {
    "height": 30
   },
   "outputs": [],
   "source": [
    "#compile the graph\n",
    "\n",
    "graph = graph_builder.compile()"
   ]
  },
  {
   "cell_type": "code",
   "execution_count": 7,
   "id": "8549bf95",
   "metadata": {},
   "outputs": [
    {
     "data": {
      "image/png": "[encoded data removed]",
      "text/plain": [
       "<IPython.core.display.Image object>"
      ]
     },
     "metadata": {},
     "output_type": "display_data"
    }
   ],
   "source": [
    "#to see the graph\n",
    "\n",
    "from IPython.display import Image, display\n",
    "\n",
    "try:\n",
    "    display(Image(graph.get_graph().draw_mermaid_png()))\n",
    "except Exception:\n",
    "    # This requires some extra dependencies and is optional\n",
    "    pass"
   ]
  },
  {
   "cell_type": "markdown",
   "id": "6a1ded13",
   "metadata": {},
   "source": [
    "Now let's run the chatbot!\n",
    "\n",
    "Tip: You can exit the chat loop at any time by typing \"quit\", \"exit\", or \"q\"."
   ]
  },
  {
   "cell_type": "code",
   "execution_count": null,
   "id": "90ddc612",
   "metadata": {},
   "outputs": [
    {
     "name": "stdout",
     "output_type": "stream",
     "text": [
      "User: can you tell me the current weather in Jandaia goias\n",
      "Assistant: I apologize, but I don't have access to real-time weather information. As an AI language model, I don't have the ability to fetch current weather data. To get the most up-to-date and accurate weather information for Jandaia, Goiás, Brazil, I recommend you:\n",
      "\n",
      "1. Check a reliable weather website or app\n",
      "2. Use a search engine and look for \"weather in Jandaia Goiás\"\n",
      "3. Check the official website of the Brazilian National Institute of Meteorology (INMET)\n",
      "4. Use a weather app on your smartphone\n",
      "\n",
      "These sources will provide you with the current weather conditions, temperature, humidity, and forecast for Jandaia, Goiás.\n"
     ]
    }
   ],
   "source": [
    "#OPTION 1 -quick hard coded test\n",
    "\n",
    "def stream_graph_updates(user_input: str):\n",
    "    for event in graph.stream({\"messages\": [{\"role\": \"user\", \"content\": user_input}]}):\n",
    "        for value in event.values():\n",
    "            print(\"Assistant:\", value[\"messages\"][-1].content)\n",
    "\n",
    "\n",
    "\n",
    "#hardcode query\n",
    "user_input = \"can you tell me the current weather in -{choose local place]\"\n",
    "print(\"User:\", user_input)\n",
    "stream_graph_updates(user_input)"
   ]
  },
  {
   "cell_type": "code",
   "execution_count": null,
   "id": "6f003a2f",
   "metadata": {},
   "outputs": [
    {
     "name": "stdout",
     "output_type": "stream",
     "text": [
      "User: what do you know about flowers\n",
      "Assistant: I know quite a bit about flowers! Here are some key points:\n",
      "\n",
      "1. Flowers are the reproductive structures of flowering plants (angiosperms).\n",
      "\n",
      "2. They typically consist of four main parts: sepals, petals, stamens, and pistils.\n",
      "\n",
      "3. Flowers come in a wide variety of colors, shapes, and sizes.\n",
      "\n",
      "4. They play a crucial role in plant reproduction through pollination.\n",
      "\n",
      "5. Many flowers attract pollinators like bees, butterflies, and birds with their colors, scents, and nectar.\n",
      "\n",
      "6. Flowers have been used symbolically in art, literature, and cultural traditions for centuries.\n",
      "\n",
      "7. Some common types of flowers include roses, tulips, daisies, sunflowers, and orchids.\n",
      "\n",
      "8. Flowers can be annual (completing their life cycle in one year), biennial (two years), or perennial (living for multiple years).\n",
      "\n",
      "9. Some flowers have medicinal properties and are used in traditional and modern medicine.\n",
      "\n",
      "10. The study of flowers is called floristry or botany (when studying their biology).\n",
      "\n",
      "11. Flowers are widely used in gardening, landscaping, and as cut flowers for decoration.\n",
      "\n",
      "12. Some flowers are edible and used in cooking or as garnishes.\n",
      "\n",
      "13. The largest flower in the world is the Rafflesia arnoldii, which can grow up to 3 feet in diameter.\n",
      "\n",
      "Would you like more specific information about any particular aspect of flowers?\n"
     ]
    },
    {
     "data": {
      "application/vnd.jupyter.widget-view+json": {
       "model_id": "3ab606f9b2d541c39caa90a0d01065d1",
       "version_major": 2,
       "version_minor": 0
      },
      "text/plain": [
       "Text(value='what do you know about flowers', description='User:', placeholder='Enter your message here')"
      ]
     },
     "metadata": {},
     "output_type": "display_data"
    },
    {
     "data": {
      "application/vnd.jupyter.widget-view+json": {
       "model_id": "4480bb909f444fcc81f9484c1fd746e0",
       "version_major": 2,
       "version_minor": 0
      },
      "text/plain": [
       "Button(description='Send', style=ButtonStyle(), tooltip='Click to send your message')"
      ]
     },
     "metadata": {},
     "output_type": "display_data"
    }
   ],
   "source": [
    "#OPTION  -WITH WIDGETS\n",
    "\n",
    "# Your original function\n",
    "def stream_graph_updates(user_input: str):\n",
    "    for event in graph.stream({\"messages\": [{\"role\": \"user\", \"content\": user_input}]}):\n",
    "        for value in event.values():\n",
    "            print(\"Assistant:\", value[\"messages\"][-1].content)\n",
    "\n",
    "# Callback for when the button is clicked\n",
    "def on_button_click(b):\n",
    "    # Clear previous output to avoid clutter\n",
    "    clear_output(wait=True)\n",
    "    # Get the input text\n",
    "    user_input = text_input.value\n",
    "    # Print user input so it looks like a chat\n",
    "    print(\"User:\", user_input)\n",
    "    # Call your function to stream updates\n",
    "    stream_graph_updates(user_input)\n",
    "    # Redisplay the widgets so they remain visible after clearing output\n",
    "    display(text_input, button)\n",
    "\n",
    "# Create a text input widget\n",
    "text_input = widgets.Text(\n",
    "    placeholder='Enter your message here',\n",
    "    description='User:',\n",
    "    disabled=False\n",
    ")\n",
    "\n",
    "# Create a button widget\n",
    "button = widgets.Button(\n",
    "    description='Send',\n",
    "    disabled=False,\n",
    "    button_style='',  # You can set this to 'success', 'info', etc.\n",
    "    tooltip='Click to send your message'\n",
    ")\n",
    "\n",
    "# Link the button click to the callback function\n",
    "button.on_click(on_button_click)\n",
    "\n",
    "# Display the widgets\n",
    "display(text_input, button)\n"
   ]
  },
  {
   "cell_type": "code",
   "execution_count": null,
   "id": "39b271b8",
   "metadata": {},
   "outputs": [],
   "source": []
  }
 ],
 "metadata": {
  "kernelspec": {
   "display_name": "langchain01",
   "language": "python",
   "name": "python3"
  },
  "language_info": {
   "codemirror_mode": {
    "name": "ipython",
    "version": 3
   },
   "file_extension": ".py",
   "mimetype": "text/x-python",
   "name": "python",
   "nbconvert_exporter": "python",
   "pygments_lexer": "ipython3",
   "version": "3.11.4"
  }
 },
 "nbformat": 4,
 "nbformat_minor": 5
}
