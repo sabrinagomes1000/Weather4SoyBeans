{
 "cells": [
  {
   "cell_type": "code",
   "execution_count": null,
   "id": "a1f4438a",
   "metadata": {},
   "outputs": [],
   "source": [
    "import os\n",
    "import requests\n",
    "from IPython.display import display, clear_output\n",
    "\n",
    "anthropic_key = os.environ.get(\"ANTHROPIC_API_KEY\")\n",
    "weatherkey = os.environ.get(\"OPENWEATHERAPIKEY\")\n",
    "#don't forget to put in config file later\n",
    "weatherurl = \"https://api.openweathermap.org/data/2.5/forecast\"\n",
    "\n",
    "from langchain_anthropic import ChatAnthropic\n",
    "\n",
    "from typing import Annotated\n",
    "from typing_extensions import TypedDict\n",
    "from langgraph.graph import StateGraph, START, END\n",
    "from langgraph.graph.message import add_messages\n",
    "\n",
    "print(weatherkey)\n",
    "\n"
   ]
  },
  {
   "cell_type": "code",
   "execution_count": null,
   "id": "6d8f562f",
   "metadata": {},
   "outputs": [],
   "source": [
    "class State(TypedDict):\n",
    "    # Messages have the type \"list\". The `add_messages` function\n",
    "    messages: Annotated[list, add_messages]\n",
    "    weather: dict\n"
   ]
  },
  {
   "cell_type": "code",
   "execution_count": null,
   "id": "5b183c9e",
   "metadata": {},
   "outputs": [],
   "source": [
    "# Initialize your Anthropic model (Claude)\n",
    "llm = ChatAnthropic(model=\"claude-3-5-sonnet-20240620\")\n"
   ]
  },
  {
   "cell_type": "code",
   "execution_count": null,
   "id": "23dcc3c6",
   "metadata": {},
   "outputs": [],
   "source": [
    "#############################################\n",
    "# Node 1: Get weather data from OpenWeatherMap\n",
    "#############################################\n",
    "\n",
    "def get_weather(state: State):\n",
    "    \"\"\"\n",
    "    Retrieves current weather data from the OpenWeatherMap free API.\n",
    "    This node uses the 'q' parameter to pass the location (e.g., \"Campinas,BR\")\n",
    "    and returns the weather data in the state.\n",
    "    Adjust to your freaking lat long\n",
    "    \"\"\"\n",
    "    url = weatherurl\n",
    "    params = {\n",
    "      \"lat\": -10.9,\n",
    "      \"lon\": -50.2,\n",
    "      \"units\": \"metric\",\n",
    "      \"appid\": weatherkey  # Replace with your actual API key.\n",
    "}\n",
    "\n",
    "    \n",
    "    try:\n",
    "        response = requests.get(url, params=params)\n",
    "        if response.status_code == 200:\n",
    "            forecast_data = response.json()\n",
    "            #print(\"Forecast data:\", forecast_data)\n",
    "            #state[\"weather\"] = forecast_data\n",
    "            state[\"messages\"].append(f\"Forecast data: {forecast_data}\")\n",
    "        else:\n",
    "            error_msg = f\"Error: {response.status_code} {response.text}\"\n",
    "            print(error_msg)\n",
    "            state[\"weather\"] = {\"error\": response.text}\n",
    "            state[\"messages\"].append(error_msg)\n",
    "    except Exception as e:\n",
    "        error_msg = f\"Exception occurred: {e}\"\n",
    "        print(error_msg)\n",
    "        state[\"weather\"] = {\"error\": str(e)}\n",
    "        state[\"messages\"].append(error_msg)\n",
    "        \n",
    "    \n",
    "    return state\n"
   ]
  },
  {
   "cell_type": "code",
   "execution_count": null,
   "id": "ee721596",
   "metadata": {},
   "outputs": [],
   "source": [
    "###################################################\n",
    "# Node 2: Analyze weather data using Claude \n",
    "###################################################\n",
    "def analyze_weather(state: State) -> State:\n",
    "    \"\"\"\n",
    "    Sends the weather data to Claude for analysis.\n",
    "    Claude returns a natural language summary tuned for an agricultural perspective.\n",
    "    \"\"\"\n",
    "    #weather_data = state.get(\"weather\", {})\n",
    "    last_message = state[\"messages\"][-1]\n",
    "\n",
    "    forecast_str = last_message.content if hasattr(last_message, \"content\") else str(last_message)\n",
    "\n",
    "\n",
    "    prompt = (\n",
    "        \"Please read the following weather forecast data in JSON format and shortly in one paragraph tell me the temperature for the day\"\n",
    "        #\"Please read the following weather forecast data in JSON format and answer with one word if it will be cloudy or sunny\"\n",
    "        \"that includes key insights and recommendations for soybean agriculture:\\n\\n\"\n",
    "        f\"{forecast_str}\"\n",
    "    )\n",
    "    \n",
    "    # Use Anthropic's model to generate a summary.\n",
    "    analysis = llm.invoke(prompt)\n",
    "\n",
    "    # Extract only the content portion.\n",
    "    analysis_content = analysis.content if hasattr(analysis, \"content\") else str(analysis)\n",
    "\n",
    "\n",
    "    print(\"Claude Analysis:\", analysis_content)\n",
    "    state[\"messages\"].append(\"Claude provided analysis: \" + analysis_content)\n",
    "    return state"
   ]
  },
  {
   "cell_type": "code",
   "execution_count": null,
   "id": "434207d4",
   "metadata": {},
   "outputs": [],
   "source": [
    "#############################################\n",
    "# LangGraph pipeline\n",
    "#############################################\n",
    "graph_builder = StateGraph(State)\n",
    "graph_builder.add_node(\"get_weather\", get_weather)\n",
    "graph_builder.add_node(\"analyze_weather\", analyze_weather)\n",
    "\n",
    "# Define the flow: start with weather retrieval then analyze.\n",
    "graph_builder.set_entry_point(\"get_weather\")\n",
    "graph_builder.add_edge(\"get_weather\", \"analyze_weather\")\n",
    "graph_builder.add_edge(\"analyze_weather\", END)\n",
    "\n",
    "# Compile the graph.\n",
    "graph = graph_builder.compile()"
   ]
  },
  {
   "cell_type": "code",
   "execution_count": null,
   "id": "f1850a33",
   "metadata": {},
   "outputs": [],
   "source": [
    "#### TO SEE THE GRAPH #####\n",
    "\n",
    "try:\n",
    "    display(Image(graph.get_graph().draw_mermaid_png()))\n",
    "except Exception:\n",
    "    # This requires some extra dependencies and is optional\n",
    "    pass"
   ]
  },
  {
   "cell_type": "code",
   "execution_count": null,
   "id": "ca11575e",
   "metadata": {},
   "outputs": [],
   "source": [
    "#############################################\n",
    "# Run the graph for testing (no front-end integration)\n",
    "#############################################\n",
    "if __name__ == \"__main__\":\n",
    "    # Initialize the state with an empty messages list.\n",
    "    initial_state = {\n",
    "        \"messages\": [],\n",
    "        \"weather\": {}\n",
    "    }\n",
    "    \n",
    "final_state = None\n",
    "for state in graph.stream(initial_state):\n",
    "    final_state = state  # Keep overwriting until the final state is reached\n",
    "\n",
    "# Now print only the summary from Claude (assuming it's stored under 'analysis')\n",
    "print(\"\\n--- Final Summary from Claude ---\")\n",
    "print(final_state.get(\"analysis_content\", \"No summary available\"))\n"
   ]
  },
  {
   "cell_type": "code",
   "execution_count": null,
   "id": "8e9c0d9f",
   "metadata": {},
   "outputs": [],
   "source": [
    "final_state = None\n",
    "for state in graph.stream(initial_state):\n",
    "    final_state = state  # Keep overwriting until the final state is reached\n",
    "\n",
    "# Now print only the summary from Claude (assuming it's stored under 'analysis')\n",
    "print(\"\\n--- Final Summary from Claude ---\")\n",
    "print(final_state.get(\"analysis\", \"No summary available\"))"
   ]
  },
  {
   "cell_type": "code",
   "execution_count": null,
   "id": "405e7426",
   "metadata": {},
   "outputs": [],
   "source": [
    "# Testing\n",
    "if __name__ == '__main__':\n",
    "    # Create an initial state dictionary.\n",
    "    state = {\n",
    "        \"local\": \"Jandaia,BR\",  \n",
    "        \"messages\": []\n",
    "    }\n",
    "    \n",
    "    # Call the get_weather function.\n",
    "    updated_state = get_weather(state)\n",
    "    \n",
    "    # Print the final state to see the result.\n",
    "    print(\"\\nFinal state:\")\n",
    "    print(updated_state)"
   ]
  },
  {
   "cell_type": "markdown",
   "id": "cd9ea95a",
   "metadata": {},
   "source": [
    "TO DO - ADD SATTELITE IMAGES"
   ]
  },
  {
   "cell_type": "code",
   "execution_count": null,
   "id": "ecf27245",
   "metadata": {},
   "outputs": [],
   "source": [
    "#TO DO\n",
    "\n",
    "# Node 3: Retrieve a satellite image via an external API.\n",
    "# teh satellite image will come from: https://agromonitoring.com/\n",
    "# get NDVI, EVI, EVI2, NRI  and weather\n",
    "\n",
    "\n",
    "def get_satellite_image(state: State):\n",
    "    \"\"\"\n",
    "    Retrieves a satellite image for the provided location.\n",
    "    Replace the URL and parameters with those of your chosen satellite image API.\n",
    "    \"\"\"\n",
    "    satellite_api_url = \"https://api.satellite-imagery.com/getImage\"  # Placeholder endpoint.\n",
    "    params = {\n",
    "        \"location\": state.get(\"local\", \"Campinas, BR\"),\n",
    "        \"format\": \"json\"\n",
    "    }\n",
    "    \n",
    "    try:\n",
    "        response = requests.get(satellite_api_url, params=params)\n",
    "        satellite_data = response.json()\n",
    "        print(\"Satellite API result:\", satellite_data)\n",
    "    except Exception as e:\n",
    "        satellite_data = {\"error\": f\"Satellite image fetch error: {e}\"}\n",
    "        print(\"Error fetching satellite image:\", satellite_data)\n",
    "    \n",
    "    state[\"messages\"].append(\"Satellite image retrieved via API.\")\n",
    "    return {\"messages\": state[\"messages\"], \"satellite\": satellite_data}"
   ]
  },
  {
   "cell_type": "code",
   "execution_count": null,
   "id": "fcc48c07",
   "metadata": {},
   "outputs": [],
   "source": [
    "# Adding nodes to the graph.\n",
    "graph_builder.add_node(\"weather\", get_weather)\n",
    "graph_builder.add_node(\"satellite\", get_satellite_image)"
   ]
  },
  {
   "cell_type": "code",
   "execution_count": null,
   "id": "b8d3d4c8",
   "metadata": {},
   "outputs": [],
   "source": [
    "#add a entry point\n",
    "graph_builder.add_edge(START, \"chatbot\")\n",
    "\n",
    "#add an exit point\n",
    "\n",
    "graph_builder.add_edge(\"chatbot\", END)"
   ]
  },
  {
   "cell_type": "code",
   "execution_count": null,
   "id": "3011375c",
   "metadata": {},
   "outputs": [],
   "source": [
    "#compile the graph\n",
    "\n",
    "graph = graph_builder.compile()"
   ]
  },
  {
   "cell_type": "code",
   "execution_count": null,
   "id": "3c47278c",
   "metadata": {},
   "outputs": [],
   "source": [
    "#to see the graph\n",
    "\n",
    "from IPython.display import Image, display\n",
    "\n",
    "try:\n",
    "    display(Image(graph.get_graph().draw_mermaid_png()))\n",
    "except Exception:\n",
    "    # This requires some extra dependencies and is optional\n",
    "    pass"
   ]
  },
  {
   "cell_type": "code",
   "execution_count": null,
   "id": "966f7e68",
   "metadata": {},
   "outputs": [],
   "source": []
  }
 ],
 "metadata": {
  "kernelspec": {
   "display_name": "langchain01",
   "language": "python",
   "name": "python3"
  },
  "language_info": {
   "codemirror_mode": {
    "name": "ipython",
    "version": 3
   },
   "file_extension": ".py",
   "mimetype": "text/x-python",
   "name": "python",
   "nbconvert_exporter": "python",
   "pygments_lexer": "ipython3",
   "version": "3.11.4"
  }
 },
 "nbformat": 4,
 "nbformat_minor": 5
}
